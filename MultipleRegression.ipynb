{
 "cells": [
  {
   "cell_type": "markdown",
   "metadata": {},
   "source": [
    "#多変量解析\n",
    "圓川隆夫「多変量のデータ解析」(1988, 朝倉書店)をもとに多変量解析の演習を行います。"
   ]
  },
  {
   "cell_type": "code",
   "execution_count": 1,
   "metadata": {
    "collapsed": false
   },
   "outputs": [],
   "source": [
    "%matplotlib inline\n",
    "import numpy as np\n",
    "import pandas as pd\n",
    "import matplotlib.pyplot as plt"
   ]
  },
  {
   "cell_type": "markdown",
   "metadata": {},
   "source": [
    "##重回帰分析\n",
    "以下のように変数を設定する。\n",
    "\\begin{equation}\n",
    "y = \n",
    "\\begin{bmatrix}\n",
    "y_{1} \\\\\n",
    "y_{2} \\\\\n",
    "\\vdots \\\\\n",
    "y_{n}\n",
    "\\end{bmatrix}\n",
    ", \n",
    "X =\n",
    "\\begin{bmatrix}\n",
    "x_{11} & \\cdots & x_{1i} & \\cdots & x_{1k}\\\\\n",
    "\\vdots & \\ddots & & & \\vdots \\\\\n",
    "x_{i1} & & x_{ii} & & x_{ik} \\\\\n",
    "\\vdots & & & \\ddots & \\vdots \\\\\n",
    "x_{n1} & \\cdots & x_{ni} & \\cdots & x_{nk}\n",
    "\\end{bmatrix}\n",
    ",\n",
    "\\beta = \n",
    "\\begin{bmatrix}\n",
    "\\beta_{1} \\\\\n",
    "\\vdots \\\\\n",
    "\\beta_{n}\n",
    "\\end{bmatrix}\n",
    ",\n",
    "\\epsilon = \n",
    "\\begin{bmatrix}\n",
    "\\epsilon_{1} \\\\\n",
    "\\vdots \\\\\n",
    "\\epsilon_{n}\n",
    "\\end{bmatrix}\n",
    "\\end{equation}\n",
    "\n",
    "このとき、最小自乗法により\n",
    "$\\hat \\beta = (X'X)^{-1}X'y$となる。  \n",
    "\n",
    "まず教科書p.28の表2.2を読み込む。"
   ]
  },
  {
   "cell_type": "code",
   "execution_count": 2,
   "metadata": {
    "collapsed": false
   },
   "outputs": [
    {
     "data": {
      "text/html": [
       "<div>\n",
       "<table border=\"1\" class=\"dataframe\">\n",
       "  <thead>\n",
       "    <tr style=\"text-align: right;\">\n",
       "      <th></th>\n",
       "      <th>y</th>\n",
       "      <th>x1</th>\n",
       "      <th>x2</th>\n",
       "      <th>x3</th>\n",
       "    </tr>\n",
       "  </thead>\n",
       "  <tbody>\n",
       "    <tr>\n",
       "      <th>0</th>\n",
       "      <td>30.4</td>\n",
       "      <td>14.5</td>\n",
       "      <td>87.6</td>\n",
       "      <td>7.5</td>\n",
       "    </tr>\n",
       "    <tr>\n",
       "      <th>1</th>\n",
       "      <td>26.5</td>\n",
       "      <td>17.1</td>\n",
       "      <td>89.3</td>\n",
       "      <td>6.9</td>\n",
       "    </tr>\n",
       "    <tr>\n",
       "      <th>2</th>\n",
       "      <td>29.2</td>\n",
       "      <td>16.5</td>\n",
       "      <td>92.3</td>\n",
       "      <td>7.2</td>\n",
       "    </tr>\n",
       "    <tr>\n",
       "      <th>3</th>\n",
       "      <td>29.5</td>\n",
       "      <td>15.5</td>\n",
       "      <td>89.2</td>\n",
       "      <td>7.4</td>\n",
       "    </tr>\n",
       "    <tr>\n",
       "      <th>4</th>\n",
       "      <td>25.9</td>\n",
       "      <td>16.6</td>\n",
       "      <td>87.0</td>\n",
       "      <td>6.5</td>\n",
       "    </tr>\n",
       "    <tr>\n",
       "      <th>5</th>\n",
       "      <td>29.6</td>\n",
       "      <td>18.8</td>\n",
       "      <td>91.6</td>\n",
       "      <td>8.2</td>\n",
       "    </tr>\n",
       "    <tr>\n",
       "      <th>6</th>\n",
       "      <td>26.2</td>\n",
       "      <td>19.1</td>\n",
       "      <td>90.0</td>\n",
       "      <td>7.3</td>\n",
       "    </tr>\n",
       "    <tr>\n",
       "      <th>7</th>\n",
       "      <td>28.1</td>\n",
       "      <td>17.5</td>\n",
       "      <td>91.5</td>\n",
       "      <td>7.8</td>\n",
       "    </tr>\n",
       "    <tr>\n",
       "      <th>8</th>\n",
       "      <td>31.1</td>\n",
       "      <td>14.6</td>\n",
       "      <td>89.7</td>\n",
       "      <td>7.0</td>\n",
       "    </tr>\n",
       "    <tr>\n",
       "      <th>9</th>\n",
       "      <td>26.9</td>\n",
       "      <td>16.1</td>\n",
       "      <td>90.5</td>\n",
       "      <td>6.7</td>\n",
       "    </tr>\n",
       "  </tbody>\n",
       "</table>\n",
       "</div>"
      ],
      "text/plain": [
       "      y    x1    x2   x3\n",
       "0  30.4  14.5  87.6  7.5\n",
       "1  26.5  17.1  89.3  6.9\n",
       "2  29.2  16.5  92.3  7.2\n",
       "3  29.5  15.5  89.2  7.4\n",
       "4  25.9  16.6  87.0  6.5\n",
       "5  29.6  18.8  91.6  8.2\n",
       "6  26.2  19.1  90.0  7.3\n",
       "7  28.1  17.5  91.5  7.8\n",
       "8  31.1  14.6  89.7  7.0\n",
       "9  26.9  16.1  90.5  6.7"
      ]
     },
     "execution_count": 2,
     "metadata": {},
     "output_type": "execute_result"
    }
   ],
   "source": [
    "data = pd.read_csv(\"tab22.csv\") # http://shimotsu.web.fc2.com/Site/duo_bian_liang_jie_xi.html\n",
    "data"
   ]
  },
  {
   "cell_type": "markdown",
   "metadata": {},
   "source": [
    "最初に収益データ(y)に圧力(x1)を説明変数として単回帰モデルをあてはめる。"
   ]
  },
  {
   "cell_type": "code",
   "execution_count": 3,
   "metadata": {
    "collapsed": false
   },
   "outputs": [
    {
     "name": "stdout",
     "output_type": "stream",
     "text": [
      "y = [ 30.4  26.5  29.2  29.5  25.9  29.6  26.2  28.1  31.1  26.9]\n",
      "X = \n",
      "[[  1.   14.5]\n",
      " [  1.   17.1]\n",
      " [  1.   16.5]\n",
      " [  1.   15.5]\n",
      " [  1.   16.6]\n",
      " [  1.   18.8]\n",
      " [  1.   19.1]\n",
      " [  1.   17.5]\n",
      " [  1.   14.6]\n",
      " [  1.   16.1]]\n",
      "b = \n",
      "[ 39.06518323  -0.64492984]\n",
      "R2 = \n",
      "0.289997897144\n"
     ]
    }
   ],
   "source": [
    "y = np.asarray(data[\"y\"])\n",
    "X = np.c_[np.ones(len(data)), np.asarray(data[' x1'])]\n",
    "beta = np.linalg.inv(X.T.dot(X)).dot(X.T).dot(y)\n",
    "e = y - X.dot(beta)\n",
    "R2 = 1 - e.dot(e.T)/sum((y - np.mean(y))**2)\n",
    "print('y = ' + str(y))\n",
    "print('X = \\n' + str(X))\n",
    "print('b = \\n' + str(beta))\n",
    "print('R2 = \\n' + str(R2))"
   ]
  },
  {
   "cell_type": "markdown",
   "metadata": {},
   "source": [
    "故に、\n",
    "$\\hat y_{i} = 39.1 - 0.645 x_{1i}$\n",
    "が得られ、寄与率は$R^{2} = 0.29$である。"
   ]
  },
  {
   "cell_type": "code",
   "execution_count": 4,
   "metadata": {
    "collapsed": false
   },
   "outputs": [
    {
     "data": {
      "text/plain": [
       "<matplotlib.text.Text at 0x1077caf50>"
      ]
     },
     "execution_count": 4,
     "metadata": {},
     "output_type": "execute_result"
    },
    {
     "data": {
      "image/png": "[encoded data removed]",
      "text/plain": [
       "<matplotlib.figure.Figure at 0x103fc6bd0>"
      ]
     },
     "metadata": {},
     "output_type": "display_data"
    }
   ],
   "source": [
    "plt.scatter(data[' x1'], data['y'])\n",
    "plt.plot(data[' x1'], X.dot(beta))\n",
    "plt.text(18, 31,\"$R^{2}=%s$\" % round(R2, 3), fontsize=17)"
   ]
  },
  {
   "cell_type": "markdown",
   "metadata": {},
   "source": [
    "同様にして、温度(x2)を説明変数とした場合は、"
   ]
  },
  {
   "cell_type": "code",
   "execution_count": 5,
   "metadata": {
    "collapsed": false
   },
   "outputs": [
    {
     "name": "stdout",
     "output_type": "stream",
     "text": [
      "y = [ 30.4  26.5  29.2  29.5  25.9  29.6  26.2  28.1  31.1  26.9]\n",
      "X = \n",
      "[[  1.   87.6]\n",
      " [  1.   89.3]\n",
      " [  1.   92.3]\n",
      " [  1.   89.2]\n",
      " [  1.   87. ]\n",
      " [  1.   91.6]\n",
      " [  1.   90. ]\n",
      " [  1.   91.5]\n",
      " [  1.   89.7]\n",
      " [  1.   90.5]]\n",
      "b = \n",
      "[ 11.77514621   0.18432017]\n",
      "R2 = \n",
      "0.0281405732572\n"
     ]
    }
   ],
   "source": [
    "y = np.asarray(data[\"y\"])\n",
    "X = np.c_[np.ones(len(data)), np.asarray(data[' x2'])]\n",
    "beta = np.linalg.inv(X.T.dot(X)).dot(X.T).dot(y)\n",
    "e = y - X.dot(beta)\n",
    "R2 = 1 - e.dot(e.T)/sum((y - np.mean(y))**2)\n",
    "print('y = ' + str(y))\n",
    "print('X = \\n' + str(X))\n",
    "print('b = \\n' + str(beta))\n",
    "print('R2 = \\n' + str(R2))"
   ]
  },
  {
   "cell_type": "markdown",
   "metadata": {},
   "source": [
    "故に、\n",
    "$\\hat y_{i} = 11.8 +0.184x_{2i}$が得られ、寄与率は$R^{2} = 0.028$である。"
   ]
  },
  {
   "cell_type": "code",
   "execution_count": 6,
   "metadata": {
    "collapsed": false
   },
   "outputs": [
    {
     "data": {
      "text/plain": [
       "<matplotlib.text.Text at 0x107d41dd0>"
      ]
     },
     "execution_count": 6,
     "metadata": {},
     "output_type": "execute_result"
    },
    {
     "data": {
      "image/png": "[encoded data removed]",
      "text/plain": [
       "<matplotlib.figure.Figure at 0x100773dd0>"
      ]
     },
     "metadata": {},
     "output_type": "display_data"
    }
   ],
   "source": [
    "plt.scatter(data[' x2'], data['y'])\n",
    "plt.plot(data[' x2'], X.dot(beta))\n",
    "plt.text(91, 31,\"$R^{2}=%s$\" % round(R2, 3), fontsize=17)"
   ]
  },
  {
   "cell_type": "markdown",
   "metadata": {},
   "source": [
    "収率データ(y)に圧力(x1)、温度(x2)、酸度(x3)の3個の説明変数で重回帰分析を行う。"
   ]
  },
  {
   "cell_type": "code",
   "execution_count": 7,
   "metadata": {
    "collapsed": false
   },
   "outputs": [
    {
     "name": "stdout",
     "output_type": "stream",
     "text": [
      "y = [ 30.4  26.5  29.2  29.5  25.9  29.6  26.2  28.1  31.1  26.9]\n",
      "X = \n",
      "[[  1.   14.5  87.6   7.5]\n",
      " [  1.   17.1  89.3   6.9]\n",
      " [  1.   16.5  92.3   7.2]\n",
      " [  1.   15.5  89.2   7.4]\n",
      " [  1.   16.6  87.    6.5]\n",
      " [  1.   18.8  91.6   8.2]\n",
      " [  1.   19.1  90.    7.3]\n",
      " [  1.   17.5  91.5   7.8]\n",
      " [  1.   14.6  89.7   7. ]\n",
      " [  1.   16.1  90.5   6.7]]\n",
      "b = \n",
      "[ 5.68673247 -1.06956395  0.24116728  2.58847073]\n",
      "R2 = \n",
      "0.860330022192\n"
     ]
    }
   ],
   "source": [
    "y = np.asarray(data[\"y\"])\n",
    "X = np.c_[np.ones(len(data)), np.asarray(data[[' x1', ' x2', ' x3']])]\n",
    "beta = np.linalg.inv(X.T.dot(X)).dot(X.T).dot(y)\n",
    "e = y - X.dot(beta)\n",
    "R2 = 1 - e.dot(e.T)/sum((y - np.mean(y))**2)\n",
    "print('y = ' + str(y))\n",
    "print('X = \\n' + str(X))\n",
    "print('b = \\n' + str(beta))\n",
    "print('R2 = \\n' + str(R2))"
   ]
  },
  {
   "cell_type": "markdown",
   "metadata": {},
   "source": [
    "故に、回帰式として\n",
    "$\\hat y_{i} = 5.69 - 1.07x_{1i} + 0.241x_{2i} + 2.59x_{3i}$\n",
    "が得られ、寄与率は$R^{2} = 0.8603$である。"
   ]
  },
  {
   "cell_type": "code",
   "execution_count": null,
   "metadata": {
    "collapsed": true
   },
   "outputs": [],
   "source": []
  }
 ],
 "metadata": {
  "kernelspec": {
   "display_name": "Python 2",
   "language": "python",
   "name": "python2"
  },
  "language_info": {
   "codemirror_mode": {
    "name": "ipython",
    "version": 2
   },
   "file_extension": ".py",
   "mimetype": "text/x-python",
   "name": "python",
   "nbconvert_exporter": "python",
   "pygments_lexer": "ipython2",
   "version": "2.7.10"
  }
 },
 "nbformat": 4,
 "nbformat_minor": 0
}
